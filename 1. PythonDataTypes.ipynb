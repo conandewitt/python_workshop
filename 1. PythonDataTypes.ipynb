{
 "cells": [
  {
   "cell_type": "markdown",
   "metadata": {},
   "source": [
    "# Review of Python Data Types\n",
    "***\n",
    "## What is a 'data type'?\n",
    "*'Data type'* is just a type of data... It is also how we categorize data so that we can set rules around how it is to be used.\n",
    "\n",
    "## What is the difference between a 'variable' and 'data type'?\n",
    "*'Variables'* are a way of storing and referencing data (of a given 'data type').\n",
    "\n",
    "***\n",
    "\n",
    "## Python has the following basic data types available (plus several more that are beyond the scope of this review):\n",
    "\n",
    "**Numeric**: `int`, `float`, `complex`\n",
    "\n",
    "**Boolean**: `bool`\n",
    "\n",
    "**Collections**:  `str` (string), `list`, `tuple,` `set`, `dict`\n",
    "\n",
    "***\n",
    "\n",
    "## Assigning variables (explicit vs implicit/inferred):\n",
    "For the most part, Python will infer the data type for a variable when you assign a value.\n",
    "\n",
    "For example:\n",
    "```Python\n",
    "myText = \"Some text\"\n",
    "myInteger = 5\n",
    "myList = [myText, myInteger]\n",
    "\n",
    "for variable in myList:\n",
    "    print(variable, type(variable))\n",
    "```\n",
    "\n",
    "But it can also be explicity defined by using constructor functions:\n",
    "\n",
    "```Python\n",
    "myText = str(\"Some text\")\n",
    "myInteger = int(5)\n",
    "myList = list((myText, myInteger))\n",
    "\n",
    "for variable in myList:\n",
    "    print(variable, type(variable))\n",
    "```"
   ]
  },
  {
   "cell_type": "code",
   "execution_count": 38,
   "metadata": {},
   "outputs": [],
   "source": [
    "### Try it here:\n",
    "\n"
   ]
  },
  {
   "cell_type": "markdown",
   "metadata": {},
   "source": [
    "## Numeric\n",
    "***\n",
    "### `int`\n",
    "Positive and negative integer values (with virtually no limit on size).\n",
    "```Python\n",
    "x = 5\n",
    "y = 2\n",
    "z = x + y\n",
    "print(z, type(z))\n",
    "```\n",
    "***\n",
    "### `float`\n",
    "Floating point number, up to 15 decimal places.\n",
    "```Python\n",
    "x = 5.0\n",
    "y = 2.0\n",
    "z = x / y\n",
    "print(z, type(z))\n",
    "```\n",
    "***\n",
    "### `complex`\n",
    "Complex numbers represent imaginary numbers (j notation).\n",
    "```Python\n",
    "x = 5.0\n",
    "y = 1j\n",
    "z = x + y\n",
    "print(z, type(z))\n",
    "```"
   ]
  },
  {
   "cell_type": "code",
   "execution_count": 37,
   "metadata": {},
   "outputs": [],
   "source": [
    "### Try it here:\n",
    "\n"
   ]
  },
  {
   "cell_type": "markdown",
   "metadata": {},
   "source": [
    "## Boolean\n",
    "***\n",
    "### `bool`\n",
    "The Boolean data type includes binary '`True`' or '`False`' values, but other numeric or string values can be evaluated for *truthiness*.\n",
    "```Python\n",
    "result = True\n",
    "print(result, not result)\n",
    "\n",
    "x = 5  # Same as True\n",
    "#x = 0  # Same as False\n",
    "\n",
    "if (x):\n",
    "    print(\"True\")\n",
    "else:\n",
    "    print(\"False\")\n",
    "```"
   ]
  },
  {
   "cell_type": "code",
   "execution_count": 36,
   "metadata": {},
   "outputs": [],
   "source": [
    "### Try it here:\n",
    "\n"
   ]
  },
  {
   "cell_type": "markdown",
   "metadata": {},
   "source": [
    "## Collections\n",
    "\n",
    "These data types store multiple **ordered** (indexed) or **unordered** pieces of data, are either **mutable** or **immutable**, and may or may not allow **duplicate values**.\n",
    "The data contained in collections can be of any type, including its own (e.g. lists can be nested).\n",
    "Note that lists, sets, and dicts have a lot of additional methods available that aren't discussed here.\n",
    "\n",
    "### `str` (string) - ordered | immutable | duplicate values allowed\n",
    "### `list` - ordered | mutable | duplicate values allowed\n",
    "### `tuple` - ordered | immutable | duplicate values allowed\n",
    "### `set` - unordered | immutable | duplicate values NOT allowed\n",
    "### `dict` - ordered | mutable | duplicate values NOT allowed"
   ]
  },
  {
   "cell_type": "markdown",
   "metadata": {},
   "source": [
    "## `str` (string) - ordered | immutable | duplicate values allowed\n",
    "***\n",
    "A string is an ordered sequence of characters (with virtually no limit on length)\n",
    "\n",
    "```Python\n",
    "myString = \"You're just a bunch of characters.  \"\n",
    "myOtherString = 'I know you are, but what am I?'\n",
    "print(myString + myOtherString)\n",
    "```"
   ]
  },
  {
   "cell_type": "code",
   "execution_count": 35,
   "metadata": {},
   "outputs": [],
   "source": [
    "### Try it here:\n",
    "\n"
   ]
  },
  {
   "cell_type": "markdown",
   "metadata": {},
   "source": [
    "## `list` - ordered | mutable | duplicate values allowed\n",
    "***\n",
    "A list is an ordered, changeable sequence that can contain any data type, including itself\n",
    "```Python\n",
    "myList = [\"value1\", \"value2\", \"value3\"]\n",
    "myList.append(\"value4\")\n",
    "myList.insert(\"value0\")\n",
    "myList[1] = \"valueOne\"\n",
    "    \n",
    "value0 = myList[0]\n",
    "\n",
    "if \"valueOne\" in myList:\n",
    "    print(\"Yes, valueOne is in the list.\")\n",
    "else:\n",
    "    print(\"No, valueOne is not in the list.\")\n",
    "```\n",
    "***"
   ]
  },
  {
   "cell_type": "code",
   "execution_count": 34,
   "metadata": {},
   "outputs": [],
   "source": [
    "### Try it here:\n",
    "\n"
   ]
  },
  {
   "cell_type": "markdown",
   "metadata": {},
   "source": [
    "## `tuple` - ordered | immutable | duplicate values allowed\n",
    "***\n",
    "A tuple is an ordered sequence that can not be changed\n",
    "```Python\n",
    "myTuple = (\"value1\", \"value2\", \"value3\")\n",
    "myTuple.append(\"value4\") #Nope\n",
    "myTuple.insert(\"value0\") #Nope\n",
    "myTuple[1] = \"valueOne\" #Nope\n",
    "    \n",
    "value0 = myTuple[0]\n",
    "\n",
    "if \"valueOne\" in myTuple:\n",
    "    print(\"Yes, valueOne is in the tuple.\")\n",
    "else:\n",
    "    print(\"No, valueOne is not in the tuple.\")\n",
    "```"
   ]
  },
  {
   "cell_type": "code",
   "execution_count": 33,
   "metadata": {},
   "outputs": [],
   "source": [
    "### Try it here:\n",
    "\n"
   ]
  },
  {
   "cell_type": "markdown",
   "metadata": {},
   "source": [
    "## `set` - unordered | immutable | duplicate values NOT allowed\n",
    "***\n",
    "A set is an unordered collection that can't be changed and doesn't allow duplicates... but items *can* be added/removed.\n",
    "```Python\n",
    "mySet = {\"value1\", \"value2\", \"value3\"}\n",
    "mySet.add(\"value4\")\n",
    "mySet.remove(\"value1\")\n",
    "mySet[1] = \"valueOne\" #Nope\n",
    "    \n",
    "value0 = mySet[0] #Nope\n",
    "\n",
    "if \"valueOne\" in mySet:\n",
    "    print(\"Yes, valueOne is in the set.\")\n",
    "else:\n",
    "    print(\"No, valueOne is not in the set.\")\n",
    "```"
   ]
  },
  {
   "cell_type": "code",
   "execution_count": 32,
   "metadata": {},
   "outputs": [],
   "source": [
    "### Try it here:\n",
    "\n"
   ]
  },
  {
   "cell_type": "markdown",
   "metadata": {},
   "source": [
    "## `dict` - ordered | mutable | duplicate values NOT allowed\n",
    "***\n",
    "A dict (dictionary) stores a collection of data in key:value pairs.  Prior to Python 3.6, dicts were unordered, but as of 3.7 are ordered (don't worry about that).\n",
    "```Python\n",
    "myDict = {\"key1\":\"value1\", \"key2\":\"value2\", \"key3\":\"value3\"}\n",
    "myDict[\"key0\"] = \"value0\"\n",
    "myDict[1] = \"valueOne\"\n",
    "    \n",
    "myItems = myDict.items()\n",
    "myKeys = myDict.keys()\n",
    "myValues = myDict.values()\n",
    "\n",
    "if \"key1\" in myDict:\n",
    "    print(\"Yes, key1 is in the dictionary - its value is \" + myDict[\"key1\"])\n",
    "else:\n",
    "    print(\"No, key1 is not in the dictionary.\")\n",
    "```"
   ]
  },
  {
   "cell_type": "code",
   "execution_count": 31,
   "metadata": {},
   "outputs": [],
   "source": [
    "### Try it here:\n",
    "\n"
   ]
  },
  {
   "cell_type": "markdown",
   "metadata": {},
   "source": [
    "# Data Type Practice\n",
    "We have a dataset that lists craft breweries around the country.  Let's play with it.\n",
    "- Import the data (data is in JSON format)\n",
    "- How is it organized?  What data types are used to store the data?\n",
    "- Manipulate/re-organize the data"
   ]
  },
  {
   "cell_type": "markdown",
   "metadata": {},
   "source": [
    "### Import the data from file"
   ]
  },
  {
   "cell_type": "code",
   "execution_count": null,
   "metadata": {},
   "outputs": [],
   "source": [
    "#Data is in JSON format\n",
    "import json\n",
    "\n",
    "with open('brewerydata.txt') as json_file:\n",
    "    breweryData = json.load(json_file)"
   ]
  },
  {
   "cell_type": "markdown",
   "metadata": {},
   "source": [
    "### What data type is `breweryData`?"
   ]
  },
  {
   "cell_type": "code",
   "execution_count": null,
   "metadata": {},
   "outputs": [],
   "source": []
  },
  {
   "cell_type": "markdown",
   "metadata": {},
   "source": [
    "### What data types are contained in `breweryData`?  How are they organized?"
   ]
  },
  {
   "cell_type": "code",
   "execution_count": null,
   "metadata": {},
   "outputs": [],
   "source": []
  },
  {
   "cell_type": "markdown",
   "metadata": {},
   "source": [
    "### How many breweries are in `breweryData`?"
   ]
  },
  {
   "cell_type": "code",
   "execution_count": null,
   "metadata": {},
   "outputs": [],
   "source": []
  },
  {
   "cell_type": "markdown",
   "metadata": {},
   "source": [
    "### Create a new variable that only includes information for breweries in the state of Minnesota.  How many breweries are in Minnesota?"
   ]
  },
  {
   "cell_type": "code",
   "execution_count": null,
   "metadata": {},
   "outputs": [],
   "source": []
  },
  {
   "cell_type": "markdown",
   "metadata": {},
   "source": [
    "### How many breweries are in each state?"
   ]
  },
  {
   "cell_type": "code",
   "execution_count": null,
   "metadata": {},
   "outputs": [],
   "source": []
  },
  {
   "cell_type": "markdown",
   "metadata": {},
   "source": [
    "### Which 3 states have the most breweries?  Which state has the fewest breweries?  How does Minnesota rank?"
   ]
  },
  {
   "cell_type": "code",
   "execution_count": null,
   "metadata": {},
   "outputs": [],
   "source": []
  }
 ],
 "metadata": {
  "kernelspec": {
   "display_name": "Python 3",
   "language": "python",
   "name": "python3"
  },
  "language_info": {
   "codemirror_mode": {
    "name": "ipython",
    "version": 3
   },
   "file_extension": ".py",
   "mimetype": "text/x-python",
   "name": "python",
   "nbconvert_exporter": "python",
   "pygments_lexer": "ipython3",
   "version": "3.8.6"
  }
 },
 "nbformat": 4,
 "nbformat_minor": 2
}
