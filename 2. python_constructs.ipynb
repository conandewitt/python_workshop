{
 "cells": [
  {
   "attachments": {},
   "cell_type": "markdown",
   "metadata": {},
   "source": [
    "# Programming Constructs in Python\n",
    "\n",
    "***\n",
    "\n",
    "### The list is the foundation of many programming constructs in Python, so let's review some basic concepts"
   ]
  },
  {
   "cell_type": "code",
   "execution_count": 18,
   "metadata": {},
   "outputs": [],
   "source": [
    "# list constructor\n",
    "\n",
    "numbers=(1,2,3,4,5,6,7) #this is a tuple, an immutable list\n",
    "my_lst=list(numbers)"
   ]
  },
  {
   "cell_type": "code",
   "execution_count": 19,
   "metadata": {},
   "outputs": [
    {
     "data": {
      "text/plain": [
       "[1, 2, 3, 4, 5, 6, 7]"
      ]
     },
     "execution_count": 19,
     "metadata": {},
     "output_type": "execute_result"
    }
   ],
   "source": [
    "my_lst"
   ]
  },
  {
   "attachments": {},
   "cell_type": "markdown",
   "metadata": {},
   "source": [
    "## you can retrieve values from lists by _slicing_ them"
   ]
  },
  {
   "cell_type": "code",
   "execution_count": 21,
   "metadata": {},
   "outputs": [
    {
     "data": {
      "text/plain": [
       "[3, 4, 5]"
      ]
     },
     "execution_count": 21,
     "metadata": {},
     "output_type": "execute_result"
    }
   ],
   "source": [
    "my_lst[0] #zero-indexed\n",
    "\n",
    "my_lst[-1] #reverse indexing\n",
    "\n",
    "my_lst[1:4] #slicing \n",
    "\n",
    "my_lst[2:-2] #slicing\n",
    "\n",
    "\n"
   ]
  },
  {
   "attachments": {},
   "cell_type": "markdown",
   "metadata": {},
   "source": [
    "## you can perform lots of operations with lists"
   ]
  },
  {
   "cell_type": "code",
   "execution_count": 27,
   "metadata": {},
   "outputs": [
    {
     "data": {
      "text/plain": [
       "[1, 2, 3, 'new item', 5, 6, 7, 'new item', 'new item at end']"
      ]
     },
     "execution_count": 27,
     "metadata": {},
     "output_type": "execute_result"
    }
   ],
   "source": [
    "# my_lst[3]='replacement item' #assignment (replaces the current value)\n",
    "\n",
    "# len(my_lst) #determine the size of the list\n",
    "\n",
    "# my_lst[len(my_lst)+1]='new item' #error\n",
    "\n",
    "# my_lst.append('new item at end') #correct way\n",
    "\n",
    "\n",
    "#lots of list operations available - see cheatsheet"
   ]
  },
  {
   "attachments": {},
   "cell_type": "markdown",
   "metadata": {},
   "source": [
    "## all loops use a list "
   ]
  },
  {
   "cell_type": "code",
   "execution_count": 29,
   "metadata": {},
   "outputs": [
    {
     "name": "stdout",
     "output_type": "stream",
     "text": [
      "1\n",
      "2\n",
      "3\n",
      "new item\n",
      "5\n",
      "6\n",
      "7\n",
      "new item\n",
      "new item at end\n"
     ]
    }
   ],
   "source": [
    "for item in my_lst:  #don't forget the colon. The variable 'item' can be anything \n",
    "    print(item)\n",
    "    ## can do anything else you want"
   ]
  },
  {
   "cell_type": "markdown",
   "metadata": {},
   "source": []
  },
  {
   "cell_type": "markdown",
   "metadata": {},
   "source": [
    "## if you want to loop a certain number of times, use the range() iterator"
   ]
  },
  {
   "cell_type": "code",
   "execution_count": 35,
   "metadata": {},
   "outputs": [
    {
     "name": "stdout",
     "output_type": "stream",
     "text": [
      "this is pass number 0 through the loop\n",
      "this is pass number 1 through the loop\n",
      "this is pass number 2 through the loop\n",
      "this is pass number 3 through the loop\n",
      "this is pass number 4 through the loop\n",
      "this is pass number 5 through the loop\n",
      "this is pass number 6 through the loop\n",
      "this is pass number 7 through the loop\n",
      "this is pass number 8 through the loop\n"
     ]
    }
   ],
   "source": [
    "for i in range(9):\n",
    "    print(f'this is pass number {i} through the loop')"
   ]
  },
  {
   "attachments": {},
   "cell_type": "markdown",
   "metadata": {},
   "source": [
    "## a special type of looping over a list can create a new list. \n",
    "## This is called a _list comprehension_ and can be faster than a standard for-loop"
   ]
  },
  {
   "cell_type": "code",
   "execution_count": 32,
   "metadata": {},
   "outputs": [
    {
     "data": {
      "text/plain": [
       "[30, 10, 6, 86, 208]"
      ]
     },
     "execution_count": 32,
     "metadata": {},
     "output_type": "execute_result"
    }
   ],
   "source": [
    "my_lst=[15,5,3,43,104]\n",
    "new_lst=[i*2 for i in my_lst] # new_list=[<action> for <item> in <iterator> if <some condition>]\n",
    "\n",
    "new_lst"
   ]
  },
  {
   "attachments": {},
   "cell_type": "markdown",
   "metadata": {},
   "source": [
    "## Logic operations --> these evaluate to a Boolean\n",
    "\n"
   ]
  },
  {
   "cell_type": "code",
   "execution_count": 43,
   "metadata": {},
   "outputs": [
    {
     "data": {
      "text/plain": [
       "True"
      ]
     },
     "execution_count": 43,
     "metadata": {},
     "output_type": "execute_result"
    }
   ],
   "source": [
    "1 < 3 #less than\n",
    "1 > 3 #greater than\n",
    "3 >= 3 #adding equals\n",
    "1 == 4 #equivalence\n",
    "1 != 4 #non-equivalence\n",
    "\n",
    "(1==1) and (3==3) #AND statement\n",
    "(1==1) or (3==5) #OR statement\n"
   ]
  },
  {
   "attachments": {},
   "cell_type": "markdown",
   "metadata": {},
   "source": [
    "## Logic operations allow us to use if-then logic in our programs"
   ]
  },
  {
   "cell_type": "code",
   "execution_count": 47,
   "metadata": {},
   "outputs": [
    {
     "name": "stdout",
     "output_type": "stream",
     "text": [
      "variables are not equal\n"
     ]
    }
   ],
   "source": [
    "a=1\n",
    "b=4\n",
    "\n",
    "if a==b:\n",
    "    print('variables are equal')\n",
    "else:\n",
    "    print('variables are not equal')\n",
    "\n",
    "#multi-conditionals use elif, see cheatsheet"
   ]
  },
  {
   "attachments": {},
   "cell_type": "markdown",
   "metadata": {},
   "source": [
    "## Logic operators also enable a special kind of loop "
   ]
  },
  {
   "cell_type": "code",
   "execution_count": 49,
   "metadata": {},
   "outputs": [
    {
     "name": "stdout",
     "output_type": "stream",
     "text": [
      "k is equal to 0\n",
      "k is equal to 1\n",
      "k is equal to 2\n",
      "k is equal to 3\n",
      "k is equal to 4\n",
      "k is equal to 5\n",
      "k is equal to 6\n",
      "k is equal to 7\n",
      "k is equal to 8\n",
      "k is equal to 9\n",
      "k is equal to 10\n"
     ]
    }
   ],
   "source": [
    "k=0\n",
    "\n",
    "while k<=10:\n",
    "    print(f'k is equal to {k}')\n",
    "    k+=1 #increment operator"
   ]
  }
 ],
 "metadata": {
  "kernelspec": {
   "display_name": "base",
   "language": "python",
   "name": "python3"
  },
  "language_info": {
   "codemirror_mode": {
    "name": "ipython",
    "version": 3
   },
   "file_extension": ".py",
   "mimetype": "text/x-python",
   "name": "python",
   "nbconvert_exporter": "python",
   "pygments_lexer": "ipython3",
   "version": "3.9.13"
  },
  "orig_nbformat": 4,
  "vscode": {
   "interpreter": {
    "hash": "ecfcf4af093ae5f6eb6262e75b3ceeff8d345948f519a0a2af547490cd2ebde0"
   }
  }
 },
 "nbformat": 4,
 "nbformat_minor": 2
}
